{
 "cells": [
  {
   "cell_type": "code",
   "execution_count": 9,
   "metadata": {},
   "outputs": [],
   "source": [
    "# import the tools needed\n",
    "\n",
    "import pandas as pd\n",
    "import numpy as np\n",
    "import matplotlib.pyplot as plt\n",
    "% matplotlib inline"
   ]
  },
  {
   "cell_type": "markdown",
   "metadata": {},
   "source": [
    "I import the file to be analyzed and view what is available."
   ]
  },
  {
   "cell_type": "code",
   "execution_count": 11,
   "metadata": {},
   "outputs": [
    {
     "data": {
      "text/html": [
       "<div>\n",
       "<style scoped>\n",
       "    .dataframe tbody tr th:only-of-type {\n",
       "        vertical-align: middle;\n",
       "    }\n",
       "\n",
       "    .dataframe tbody tr th {\n",
       "        vertical-align: top;\n",
       "    }\n",
       "\n",
       "    .dataframe thead th {\n",
       "        text-align: right;\n",
       "    }\n",
       "</style>\n",
       "<table border=\"1\" class=\"dataframe\">\n",
       "  <thead>\n",
       "    <tr style=\"text-align: right;\">\n",
       "      <th></th>\n",
       "      <th>id</th>\n",
       "      <th>imdb_id</th>\n",
       "      <th>popularity</th>\n",
       "      <th>budget</th>\n",
       "      <th>revenue</th>\n",
       "      <th>original_title</th>\n",
       "      <th>cast</th>\n",
       "      <th>homepage</th>\n",
       "      <th>director</th>\n",
       "      <th>tagline</th>\n",
       "      <th>...</th>\n",
       "      <th>overview</th>\n",
       "      <th>runtime</th>\n",
       "      <th>genres</th>\n",
       "      <th>production_companies</th>\n",
       "      <th>release_date</th>\n",
       "      <th>vote_count</th>\n",
       "      <th>vote_average</th>\n",
       "      <th>release_year</th>\n",
       "      <th>budget_adj</th>\n",
       "      <th>revenue_adj</th>\n",
       "    </tr>\n",
       "  </thead>\n",
       "  <tbody>\n",
       "    <tr>\n",
       "      <th>0</th>\n",
       "      <td>135397</td>\n",
       "      <td>tt0369610</td>\n",
       "      <td>32.985763</td>\n",
       "      <td>150000000</td>\n",
       "      <td>1513528810</td>\n",
       "      <td>Jurassic World</td>\n",
       "      <td>Chris Pratt|Bryce Dallas Howard|Irrfan Khan|Vi...</td>\n",
       "      <td>http://www.jurassicworld.com/</td>\n",
       "      <td>Colin Trevorrow</td>\n",
       "      <td>The park is open.</td>\n",
       "      <td>...</td>\n",
       "      <td>Twenty-two years after the events of Jurassic ...</td>\n",
       "      <td>124</td>\n",
       "      <td>Action|Adventure|Science Fiction|Thriller</td>\n",
       "      <td>Universal Studios|Amblin Entertainment|Legenda...</td>\n",
       "      <td>6/9/15</td>\n",
       "      <td>5562</td>\n",
       "      <td>6.5</td>\n",
       "      <td>2015</td>\n",
       "      <td>1.379999e+08</td>\n",
       "      <td>1.392446e+09</td>\n",
       "    </tr>\n",
       "    <tr>\n",
       "      <th>1</th>\n",
       "      <td>76341</td>\n",
       "      <td>tt1392190</td>\n",
       "      <td>28.419936</td>\n",
       "      <td>150000000</td>\n",
       "      <td>378436354</td>\n",
       "      <td>Mad Max: Fury Road</td>\n",
       "      <td>Tom Hardy|Charlize Theron|Hugh Keays-Byrne|Nic...</td>\n",
       "      <td>http://www.madmaxmovie.com/</td>\n",
       "      <td>George Miller</td>\n",
       "      <td>What a Lovely Day.</td>\n",
       "      <td>...</td>\n",
       "      <td>An apocalyptic story set in the furthest reach...</td>\n",
       "      <td>120</td>\n",
       "      <td>Action|Adventure|Science Fiction|Thriller</td>\n",
       "      <td>Village Roadshow Pictures|Kennedy Miller Produ...</td>\n",
       "      <td>5/13/15</td>\n",
       "      <td>6185</td>\n",
       "      <td>7.1</td>\n",
       "      <td>2015</td>\n",
       "      <td>1.379999e+08</td>\n",
       "      <td>3.481613e+08</td>\n",
       "    </tr>\n",
       "  </tbody>\n",
       "</table>\n",
       "<p>2 rows × 21 columns</p>\n",
       "</div>"
      ],
      "text/plain": [
       "       id    imdb_id  popularity     budget     revenue      original_title  \\\n",
       "0  135397  tt0369610   32.985763  150000000  1513528810      Jurassic World   \n",
       "1   76341  tt1392190   28.419936  150000000   378436354  Mad Max: Fury Road   \n",
       "\n",
       "                                                cast  \\\n",
       "0  Chris Pratt|Bryce Dallas Howard|Irrfan Khan|Vi...   \n",
       "1  Tom Hardy|Charlize Theron|Hugh Keays-Byrne|Nic...   \n",
       "\n",
       "                        homepage         director             tagline  \\\n",
       "0  http://www.jurassicworld.com/  Colin Trevorrow   The park is open.   \n",
       "1    http://www.madmaxmovie.com/    George Miller  What a Lovely Day.   \n",
       "\n",
       "       ...                                                overview runtime  \\\n",
       "0      ...       Twenty-two years after the events of Jurassic ...     124   \n",
       "1      ...       An apocalyptic story set in the furthest reach...     120   \n",
       "\n",
       "                                      genres  \\\n",
       "0  Action|Adventure|Science Fiction|Thriller   \n",
       "1  Action|Adventure|Science Fiction|Thriller   \n",
       "\n",
       "                                production_companies release_date vote_count  \\\n",
       "0  Universal Studios|Amblin Entertainment|Legenda...       6/9/15       5562   \n",
       "1  Village Roadshow Pictures|Kennedy Miller Produ...      5/13/15       6185   \n",
       "\n",
       "   vote_average  release_year    budget_adj   revenue_adj  \n",
       "0           6.5          2015  1.379999e+08  1.392446e+09  \n",
       "1           7.1          2015  1.379999e+08  3.481613e+08  \n",
       "\n",
       "[2 rows x 21 columns]"
      ]
     },
     "execution_count": 11,
     "metadata": {},
     "output_type": "execute_result"
    }
   ],
   "source": [
    "# read in a data file to be used for analysis\n",
    "moV = pd.read_csv('tmdb-movies.csv')\n",
    "moV.head(2)"
   ]
  },
  {
   "cell_type": "markdown",
   "metadata": {},
   "source": [
    "I can see that there is a significant amount of imformation that will not be pertinent to my investigation. I will remove those columns"
   ]
  },
  {
   "cell_type": "code",
   "execution_count": 12,
   "metadata": {},
   "outputs": [
    {
     "data": {
      "text/html": [
       "<div>\n",
       "<style scoped>\n",
       "    .dataframe tbody tr th:only-of-type {\n",
       "        vertical-align: middle;\n",
       "    }\n",
       "\n",
       "    .dataframe tbody tr th {\n",
       "        vertical-align: top;\n",
       "    }\n",
       "\n",
       "    .dataframe thead th {\n",
       "        text-align: right;\n",
       "    }\n",
       "</style>\n",
       "<table border=\"1\" class=\"dataframe\">\n",
       "  <thead>\n",
       "    <tr style=\"text-align: right;\">\n",
       "      <th></th>\n",
       "      <th>id</th>\n",
       "      <th>popularity</th>\n",
       "      <th>budget</th>\n",
       "      <th>revenue</th>\n",
       "      <th>original_title</th>\n",
       "      <th>director</th>\n",
       "      <th>genres</th>\n",
       "      <th>production_companies</th>\n",
       "      <th>release_year</th>\n",
       "    </tr>\n",
       "  </thead>\n",
       "  <tbody>\n",
       "    <tr>\n",
       "      <th>0</th>\n",
       "      <td>135397</td>\n",
       "      <td>32.985763</td>\n",
       "      <td>150000000</td>\n",
       "      <td>1513528810</td>\n",
       "      <td>Jurassic World</td>\n",
       "      <td>Colin Trevorrow</td>\n",
       "      <td>Action|Adventure|Science Fiction|Thriller</td>\n",
       "      <td>Universal Studios|Amblin Entertainment|Legenda...</td>\n",
       "      <td>2015</td>\n",
       "    </tr>\n",
       "    <tr>\n",
       "      <th>1</th>\n",
       "      <td>76341</td>\n",
       "      <td>28.419936</td>\n",
       "      <td>150000000</td>\n",
       "      <td>378436354</td>\n",
       "      <td>Mad Max: Fury Road</td>\n",
       "      <td>George Miller</td>\n",
       "      <td>Action|Adventure|Science Fiction|Thriller</td>\n",
       "      <td>Village Roadshow Pictures|Kennedy Miller Produ...</td>\n",
       "      <td>2015</td>\n",
       "    </tr>\n",
       "    <tr>\n",
       "      <th>2</th>\n",
       "      <td>262500</td>\n",
       "      <td>13.112507</td>\n",
       "      <td>110000000</td>\n",
       "      <td>295238201</td>\n",
       "      <td>Insurgent</td>\n",
       "      <td>Robert Schwentke</td>\n",
       "      <td>Adventure|Science Fiction|Thriller</td>\n",
       "      <td>Summit Entertainment|Mandeville Films|Red Wago...</td>\n",
       "      <td>2015</td>\n",
       "    </tr>\n",
       "    <tr>\n",
       "      <th>3</th>\n",
       "      <td>140607</td>\n",
       "      <td>11.173104</td>\n",
       "      <td>200000000</td>\n",
       "      <td>2068178225</td>\n",
       "      <td>Star Wars: The Force Awakens</td>\n",
       "      <td>J.J. Abrams</td>\n",
       "      <td>Action|Adventure|Science Fiction|Fantasy</td>\n",
       "      <td>Lucasfilm|Truenorth Productions|Bad Robot</td>\n",
       "      <td>2015</td>\n",
       "    </tr>\n",
       "    <tr>\n",
       "      <th>4</th>\n",
       "      <td>168259</td>\n",
       "      <td>9.335014</td>\n",
       "      <td>190000000</td>\n",
       "      <td>1506249360</td>\n",
       "      <td>Furious 7</td>\n",
       "      <td>James Wan</td>\n",
       "      <td>Action|Crime|Thriller</td>\n",
       "      <td>Universal Pictures|Original Film|Media Rights ...</td>\n",
       "      <td>2015</td>\n",
       "    </tr>\n",
       "  </tbody>\n",
       "</table>\n",
       "</div>"
      ],
      "text/plain": [
       "       id  popularity     budget     revenue                original_title  \\\n",
       "0  135397   32.985763  150000000  1513528810                Jurassic World   \n",
       "1   76341   28.419936  150000000   378436354            Mad Max: Fury Road   \n",
       "2  262500   13.112507  110000000   295238201                     Insurgent   \n",
       "3  140607   11.173104  200000000  2068178225  Star Wars: The Force Awakens   \n",
       "4  168259    9.335014  190000000  1506249360                     Furious 7   \n",
       "\n",
       "           director                                     genres  \\\n",
       "0   Colin Trevorrow  Action|Adventure|Science Fiction|Thriller   \n",
       "1     George Miller  Action|Adventure|Science Fiction|Thriller   \n",
       "2  Robert Schwentke         Adventure|Science Fiction|Thriller   \n",
       "3       J.J. Abrams   Action|Adventure|Science Fiction|Fantasy   \n",
       "4         James Wan                      Action|Crime|Thriller   \n",
       "\n",
       "                                production_companies  release_year  \n",
       "0  Universal Studios|Amblin Entertainment|Legenda...          2015  \n",
       "1  Village Roadshow Pictures|Kennedy Miller Produ...          2015  \n",
       "2  Summit Entertainment|Mandeville Films|Red Wago...          2015  \n",
       "3          Lucasfilm|Truenorth Productions|Bad Robot          2015  \n",
       "4  Universal Pictures|Original Film|Media Rights ...          2015  "
      ]
     },
     "execution_count": 12,
     "metadata": {},
     "output_type": "execute_result"
    }
   ],
   "source": [
    "# remove columns that are not of interest\n",
    "moV.drop(['tagline','keywords', 'cast', 'imdb_id', 'runtime', 'release_date', 'overview', 'vote_count', 'vote_average','homepage','budget_adj', 'revenue_adj'], axis=1, inplace=True)\n",
    "moV.head()"
   ]
  },
  {
   "cell_type": "markdown",
   "metadata": {},
   "source": [
    "Inspection of the head doesn't reveal Na's however, I will assume there are some. I will remove any rows containing Na's in the genres column since that is the basis for my analysis."
   ]
  },
  {
   "cell_type": "code",
   "execution_count": 13,
   "metadata": {},
   "outputs": [
    {
     "data": {
      "text/plain": [
       "0"
      ]
     },
     "execution_count": 13,
     "metadata": {},
     "output_type": "execute_result"
    }
   ],
   "source": [
    "moV = moV.dropna(axis=0, subset=['genres'])\n",
    "sum(moV['genres']== 'Na')"
   ]
  },
  {
   "cell_type": "markdown",
   "metadata": {},
   "source": [
    "I will fill any other Na's with 'unknown' "
   ]
  },
  {
   "cell_type": "code",
   "execution_count": 14,
   "metadata": {},
   "outputs": [],
   "source": [
    "moV.fillna('unknown', inplace=True)"
   ]
  },
  {
   "cell_type": "markdown",
   "metadata": {},
   "source": [
    "Initial inspection revealed there are two columns of interest that contain multiple datum that I need to split. I will keep only the first datum assuming it is the most signicant"
   ]
  },
  {
   "cell_type": "code",
   "execution_count": 15,
   "metadata": {},
   "outputs": [
    {
     "data": {
      "text/html": [
       "<div>\n",
       "<style scoped>\n",
       "    .dataframe tbody tr th:only-of-type {\n",
       "        vertical-align: middle;\n",
       "    }\n",
       "\n",
       "    .dataframe tbody tr th {\n",
       "        vertical-align: top;\n",
       "    }\n",
       "\n",
       "    .dataframe thead th {\n",
       "        text-align: right;\n",
       "    }\n",
       "</style>\n",
       "<table border=\"1\" class=\"dataframe\">\n",
       "  <thead>\n",
       "    <tr style=\"text-align: right;\">\n",
       "      <th></th>\n",
       "      <th>id</th>\n",
       "      <th>popularity</th>\n",
       "      <th>budget</th>\n",
       "      <th>revenue</th>\n",
       "      <th>original_title</th>\n",
       "      <th>director</th>\n",
       "      <th>genres</th>\n",
       "      <th>production_companies</th>\n",
       "      <th>release_year</th>\n",
       "    </tr>\n",
       "  </thead>\n",
       "  <tbody>\n",
       "    <tr>\n",
       "      <th>0</th>\n",
       "      <td>135397</td>\n",
       "      <td>32.985763</td>\n",
       "      <td>150000000</td>\n",
       "      <td>1513528810</td>\n",
       "      <td>Jurassic World</td>\n",
       "      <td>Colin Trevorrow</td>\n",
       "      <td>Action</td>\n",
       "      <td>Universal Studios</td>\n",
       "      <td>2015</td>\n",
       "    </tr>\n",
       "    <tr>\n",
       "      <th>1</th>\n",
       "      <td>76341</td>\n",
       "      <td>28.419936</td>\n",
       "      <td>150000000</td>\n",
       "      <td>378436354</td>\n",
       "      <td>Mad Max: Fury Road</td>\n",
       "      <td>George Miller</td>\n",
       "      <td>Action</td>\n",
       "      <td>Village Roadshow Pictures</td>\n",
       "      <td>2015</td>\n",
       "    </tr>\n",
       "    <tr>\n",
       "      <th>2</th>\n",
       "      <td>262500</td>\n",
       "      <td>13.112507</td>\n",
       "      <td>110000000</td>\n",
       "      <td>295238201</td>\n",
       "      <td>Insurgent</td>\n",
       "      <td>Robert Schwentke</td>\n",
       "      <td>Adventure</td>\n",
       "      <td>Summit Entertainment</td>\n",
       "      <td>2015</td>\n",
       "    </tr>\n",
       "    <tr>\n",
       "      <th>3</th>\n",
       "      <td>140607</td>\n",
       "      <td>11.173104</td>\n",
       "      <td>200000000</td>\n",
       "      <td>2068178225</td>\n",
       "      <td>Star Wars: The Force Awakens</td>\n",
       "      <td>J.J. Abrams</td>\n",
       "      <td>Action</td>\n",
       "      <td>Lucasfilm</td>\n",
       "      <td>2015</td>\n",
       "    </tr>\n",
       "    <tr>\n",
       "      <th>4</th>\n",
       "      <td>168259</td>\n",
       "      <td>9.335014</td>\n",
       "      <td>190000000</td>\n",
       "      <td>1506249360</td>\n",
       "      <td>Furious 7</td>\n",
       "      <td>James Wan</td>\n",
       "      <td>Action</td>\n",
       "      <td>Universal Pictures</td>\n",
       "      <td>2015</td>\n",
       "    </tr>\n",
       "  </tbody>\n",
       "</table>\n",
       "</div>"
      ],
      "text/plain": [
       "       id  popularity     budget     revenue                original_title  \\\n",
       "0  135397   32.985763  150000000  1513528810                Jurassic World   \n",
       "1   76341   28.419936  150000000   378436354            Mad Max: Fury Road   \n",
       "2  262500   13.112507  110000000   295238201                     Insurgent   \n",
       "3  140607   11.173104  200000000  2068178225  Star Wars: The Force Awakens   \n",
       "4  168259    9.335014  190000000  1506249360                     Furious 7   \n",
       "\n",
       "           director     genres       production_companies  release_year  \n",
       "0   Colin Trevorrow     Action          Universal Studios          2015  \n",
       "1     George Miller     Action  Village Roadshow Pictures          2015  \n",
       "2  Robert Schwentke  Adventure       Summit Entertainment          2015  \n",
       "3       J.J. Abrams     Action                  Lucasfilm          2015  \n",
       "4         James Wan     Action         Universal Pictures          2015  "
      ]
     },
     "execution_count": 15,
     "metadata": {},
     "output_type": "execute_result"
    }
   ],
   "source": [
    "# split columns with multiple values keeping only the first datum\n",
    "split_columns = ['genres', 'production_companies']\n",
    "for c in split_columns:\n",
    "    moV[c] = moV[c].apply(lambda x: x.split('|')[0])\n",
    "moV.head()    "
   ]
  },
  {
   "cell_type": "markdown",
   "metadata": {},
   "source": [
    "I am interested in profits so I will add a column that contains the difference between the 'revenue' and 'budget' columns"
   ]
  },
  {
   "cell_type": "code",
   "execution_count": 16,
   "metadata": {},
   "outputs": [
    {
     "data": {
      "text/html": [
       "<div>\n",
       "<style scoped>\n",
       "    .dataframe tbody tr th:only-of-type {\n",
       "        vertical-align: middle;\n",
       "    }\n",
       "\n",
       "    .dataframe tbody tr th {\n",
       "        vertical-align: top;\n",
       "    }\n",
       "\n",
       "    .dataframe thead th {\n",
       "        text-align: right;\n",
       "    }\n",
       "</style>\n",
       "<table border=\"1\" class=\"dataframe\">\n",
       "  <thead>\n",
       "    <tr style=\"text-align: right;\">\n",
       "      <th></th>\n",
       "      <th>id</th>\n",
       "      <th>popularity</th>\n",
       "      <th>budget</th>\n",
       "      <th>revenue</th>\n",
       "      <th>original_title</th>\n",
       "      <th>director</th>\n",
       "      <th>genres</th>\n",
       "      <th>production_companies</th>\n",
       "      <th>release_year</th>\n",
       "      <th>profit</th>\n",
       "    </tr>\n",
       "  </thead>\n",
       "  <tbody>\n",
       "    <tr>\n",
       "      <th>0</th>\n",
       "      <td>135397</td>\n",
       "      <td>32.985763</td>\n",
       "      <td>150000000</td>\n",
       "      <td>1513528810</td>\n",
       "      <td>Jurassic World</td>\n",
       "      <td>Colin Trevorrow</td>\n",
       "      <td>Action</td>\n",
       "      <td>Universal Studios</td>\n",
       "      <td>2015</td>\n",
       "      <td>1363528810</td>\n",
       "    </tr>\n",
       "    <tr>\n",
       "      <th>1</th>\n",
       "      <td>76341</td>\n",
       "      <td>28.419936</td>\n",
       "      <td>150000000</td>\n",
       "      <td>378436354</td>\n",
       "      <td>Mad Max: Fury Road</td>\n",
       "      <td>George Miller</td>\n",
       "      <td>Action</td>\n",
       "      <td>Village Roadshow Pictures</td>\n",
       "      <td>2015</td>\n",
       "      <td>228436354</td>\n",
       "    </tr>\n",
       "    <tr>\n",
       "      <th>2</th>\n",
       "      <td>262500</td>\n",
       "      <td>13.112507</td>\n",
       "      <td>110000000</td>\n",
       "      <td>295238201</td>\n",
       "      <td>Insurgent</td>\n",
       "      <td>Robert Schwentke</td>\n",
       "      <td>Adventure</td>\n",
       "      <td>Summit Entertainment</td>\n",
       "      <td>2015</td>\n",
       "      <td>185238201</td>\n",
       "    </tr>\n",
       "    <tr>\n",
       "      <th>3</th>\n",
       "      <td>140607</td>\n",
       "      <td>11.173104</td>\n",
       "      <td>200000000</td>\n",
       "      <td>2068178225</td>\n",
       "      <td>Star Wars: The Force Awakens</td>\n",
       "      <td>J.J. Abrams</td>\n",
       "      <td>Action</td>\n",
       "      <td>Lucasfilm</td>\n",
       "      <td>2015</td>\n",
       "      <td>1868178225</td>\n",
       "    </tr>\n",
       "    <tr>\n",
       "      <th>4</th>\n",
       "      <td>168259</td>\n",
       "      <td>9.335014</td>\n",
       "      <td>190000000</td>\n",
       "      <td>1506249360</td>\n",
       "      <td>Furious 7</td>\n",
       "      <td>James Wan</td>\n",
       "      <td>Action</td>\n",
       "      <td>Universal Pictures</td>\n",
       "      <td>2015</td>\n",
       "      <td>1316249360</td>\n",
       "    </tr>\n",
       "  </tbody>\n",
       "</table>\n",
       "</div>"
      ],
      "text/plain": [
       "       id  popularity     budget     revenue                original_title  \\\n",
       "0  135397   32.985763  150000000  1513528810                Jurassic World   \n",
       "1   76341   28.419936  150000000   378436354            Mad Max: Fury Road   \n",
       "2  262500   13.112507  110000000   295238201                     Insurgent   \n",
       "3  140607   11.173104  200000000  2068178225  Star Wars: The Force Awakens   \n",
       "4  168259    9.335014  190000000  1506249360                     Furious 7   \n",
       "\n",
       "           director     genres       production_companies  release_year  \\\n",
       "0   Colin Trevorrow     Action          Universal Studios          2015   \n",
       "1     George Miller     Action  Village Roadshow Pictures          2015   \n",
       "2  Robert Schwentke  Adventure       Summit Entertainment          2015   \n",
       "3       J.J. Abrams     Action                  Lucasfilm          2015   \n",
       "4         James Wan     Action         Universal Pictures          2015   \n",
       "\n",
       "       profit  \n",
       "0  1363528810  \n",
       "1   228436354  \n",
       "2   185238201  \n",
       "3  1868178225  \n",
       "4  1316249360  "
      ]
     },
     "execution_count": 16,
     "metadata": {},
     "output_type": "execute_result"
    }
   ],
   "source": [
    "profit=moV['revenue']-moV['budget']\n",
    "moV = pd.concat([moV,profit],axis=1,  sort=False)\n",
    "moV = moV.rename(columns={moV.columns[-1]: 'profit'})\n",
    "moV.head()"
   ]
  },
  {
   "cell_type": "markdown",
   "metadata": {},
   "source": [
    "At this point I can start to manipulate the data for viewing"
   ]
  },
  {
   "cell_type": "markdown",
   "metadata": {},
   "source": [
    "First I will group years 2010-2015 for use later"
   ]
  },
  {
   "cell_type": "code",
   "execution_count": 17,
   "metadata": {},
   "outputs": [],
   "source": [
    "moV2010_2015 = moV[moV['release_year'] >= 2010]"
   ]
  },
  {
   "cell_type": "markdown",
   "metadata": {},
   "source": [
    "I created a function to rename columns that have the same name so I can then properly name them"
   ]
  },
  {
   "cell_type": "code",
   "execution_count": 18,
   "metadata": {},
   "outputs": [],
   "source": [
    "def column_rename_multiple_same(file,col_name):\n",
    "    cols = []\n",
    "    count = 1\n",
    "    for column in file.columns:\n",
    "        if column == col_name:\n",
    "            cols.append(col_name + f'{count}')\n",
    "            count+=1\n",
    "            continue\n",
    "        cols.append(column)\n",
    "    \n",
    "    file.columns = cols"
   ]
  },
  {
   "cell_type": "markdown",
   "metadata": {},
   "source": [
    "I also created a function to split the year from the main file"
   ]
  },
  {
   "cell_type": "code",
   "execution_count": 20,
   "metadata": {},
   "outputs": [],
   "source": [
    "def split_year(file, year):\n",
    "        m = file[file['release_year'] == year]\n",
    "        return m"
   ]
  },
  {
   "cell_type": "markdown",
   "metadata": {},
   "source": [
    "Next I will be looking at each year from 2010-2015 seperately so I will split them now"
   ]
  },
  {
   "cell_type": "code",
   "execution_count": 22,
   "metadata": {},
   "outputs": [],
   "source": [
    "movies10 = split_year(moV, 2010)\n",
    "movies11 = split_year(moV, 2011)\n",
    "movies12 = split_year(moV, 2012)\n",
    "movies13 = split_year(moV, 2013)\n",
    "movies14 = split_year(moV, 2014)\n",
    "movies15 = split_year(moV, 2015)"
   ]
  },
  {
   "cell_type": "markdown",
   "metadata": {},
   "source": [
    "I count each genre per year "
   ]
  },
  {
   "cell_type": "code",
   "execution_count": 23,
   "metadata": {},
   "outputs": [],
   "source": [
    "moV10 = movies10.groupby('genres').count()['id']\n",
    "moV11 = movies11.groupby('genres').count()['id']\n",
    "moV12 = movies12.groupby('genres').count()['id']\n",
    "moV13 = movies13.groupby('genres').count()['id']\n",
    "moV14 = movies14.groupby('genres').count()['id']\n",
    "moV15 = movies15.groupby('genres').count()['id']"
   ]
  },
  {
   "cell_type": "markdown",
   "metadata": {},
   "source": [
    "I group this information together. I fill Na's and check that it is what I expected"
   ]
  },
  {
   "cell_type": "code",
   "execution_count": 27,
   "metadata": {},
   "outputs": [
    {
     "data": {
      "text/html": [
       "<div>\n",
       "<style scoped>\n",
       "    .dataframe tbody tr th:only-of-type {\n",
       "        vertical-align: middle;\n",
       "    }\n",
       "\n",
       "    .dataframe tbody tr th {\n",
       "        vertical-align: top;\n",
       "    }\n",
       "\n",
       "    .dataframe thead th {\n",
       "        text-align: right;\n",
       "    }\n",
       "</style>\n",
       "<table border=\"1\" class=\"dataframe\">\n",
       "  <thead>\n",
       "    <tr style=\"text-align: right;\">\n",
       "      <th></th>\n",
       "      <th>id</th>\n",
       "      <th>id</th>\n",
       "      <th>id</th>\n",
       "      <th>id</th>\n",
       "      <th>id</th>\n",
       "      <th>id</th>\n",
       "    </tr>\n",
       "  </thead>\n",
       "  <tbody>\n",
       "    <tr>\n",
       "      <th>Action</th>\n",
       "      <td>66.0</td>\n",
       "      <td>67.0</td>\n",
       "      <td>67.0</td>\n",
       "      <td>87.0</td>\n",
       "      <td>65.0</td>\n",
       "      <td>59.0</td>\n",
       "    </tr>\n",
       "    <tr>\n",
       "      <th>Adventure</th>\n",
       "      <td>19.0</td>\n",
       "      <td>31.0</td>\n",
       "      <td>20.0</td>\n",
       "      <td>17.0</td>\n",
       "      <td>29.0</td>\n",
       "      <td>20.0</td>\n",
       "    </tr>\n",
       "    <tr>\n",
       "      <th>Animation</th>\n",
       "      <td>34.0</td>\n",
       "      <td>28.0</td>\n",
       "      <td>26.0</td>\n",
       "      <td>28.0</td>\n",
       "      <td>15.0</td>\n",
       "      <td>13.0</td>\n",
       "    </tr>\n",
       "    <tr>\n",
       "      <th>Comedy</th>\n",
       "      <td>97.0</td>\n",
       "      <td>100.0</td>\n",
       "      <td>110.0</td>\n",
       "      <td>115.0</td>\n",
       "      <td>102.0</td>\n",
       "      <td>78.0</td>\n",
       "    </tr>\n",
       "    <tr>\n",
       "      <th>Crime</th>\n",
       "      <td>18.0</td>\n",
       "      <td>16.0</td>\n",
       "      <td>13.0</td>\n",
       "      <td>17.0</td>\n",
       "      <td>18.0</td>\n",
       "      <td>22.0</td>\n",
       "    </tr>\n",
       "  </tbody>\n",
       "</table>\n",
       "</div>"
      ],
      "text/plain": [
       "             id     id     id     id     id    id\n",
       "Action     66.0   67.0   67.0   87.0   65.0  59.0\n",
       "Adventure  19.0   31.0   20.0   17.0   29.0  20.0\n",
       "Animation  34.0   28.0   26.0   28.0   15.0  13.0\n",
       "Comedy     97.0  100.0  110.0  115.0  102.0  78.0\n",
       "Crime      18.0   16.0   13.0   17.0   18.0  22.0"
      ]
     },
     "execution_count": 27,
     "metadata": {},
     "output_type": "execute_result"
    }
   ],
   "source": [
    "movies = pd.concat([moV10,moV11,moV12,moV13,moV14,moV15],axis=1, sort=False)\n",
    "movies.fillna(0,inplace=True)  # I know there are Nan values that will cause problems\n",
    "movies.head(2)"
   ]
  },
  {
   "cell_type": "markdown",
   "metadata": {},
   "source": [
    "All column names are the same so I need to address that. First I add a count to their name, then change it to the proper year and verify changes."
   ]
  },
  {
   "cell_type": "code",
   "execution_count": 29,
   "metadata": {},
   "outputs": [
    {
     "data": {
      "text/html": [
       "<div>\n",
       "<style scoped>\n",
       "    .dataframe tbody tr th:only-of-type {\n",
       "        vertical-align: middle;\n",
       "    }\n",
       "\n",
       "    .dataframe tbody tr th {\n",
       "        vertical-align: top;\n",
       "    }\n",
       "\n",
       "    .dataframe thead th {\n",
       "        text-align: right;\n",
       "    }\n",
       "</style>\n",
       "<table border=\"1\" class=\"dataframe\">\n",
       "  <thead>\n",
       "    <tr style=\"text-align: right;\">\n",
       "      <th></th>\n",
       "      <th>2010</th>\n",
       "      <th>2011</th>\n",
       "      <th>2012</th>\n",
       "      <th>2013</th>\n",
       "      <th>2014</th>\n",
       "      <th>2015</th>\n",
       "    </tr>\n",
       "  </thead>\n",
       "  <tbody>\n",
       "    <tr>\n",
       "      <th>Action</th>\n",
       "      <td>66.0</td>\n",
       "      <td>67.0</td>\n",
       "      <td>67.0</td>\n",
       "      <td>87.0</td>\n",
       "      <td>65.0</td>\n",
       "      <td>59.0</td>\n",
       "    </tr>\n",
       "    <tr>\n",
       "      <th>Adventure</th>\n",
       "      <td>19.0</td>\n",
       "      <td>31.0</td>\n",
       "      <td>20.0</td>\n",
       "      <td>17.0</td>\n",
       "      <td>29.0</td>\n",
       "      <td>20.0</td>\n",
       "    </tr>\n",
       "  </tbody>\n",
       "</table>\n",
       "</div>"
      ],
      "text/plain": [
       "           2010  2011  2012  2013  2014  2015\n",
       "Action     66.0  67.0  67.0  87.0  65.0  59.0\n",
       "Adventure  19.0  31.0  20.0  17.0  29.0  20.0"
      ]
     },
     "execution_count": 29,
     "metadata": {},
     "output_type": "execute_result"
    }
   ],
   "source": [
    "column_rename_multiple_same(movies,'id')\n",
    "\n",
    "movies.rename(columns={ 'id1':'2010','id2': \"2011\" , 'id3': \"2012\", 'id4':'2013', 'id5': '2014', 'id6':'2015'}, inplace=True)\n",
    "movies.head(2)"
   ]
  },
  {
   "cell_type": "markdown",
   "metadata": {},
   "source": [
    "I want a list of the genres to use as labels"
   ]
  },
  {
   "cell_type": "code",
   "execution_count": 30,
   "metadata": {},
   "outputs": [],
   "source": [
    "names = moV['genres'].unique()\n",
    "name =names.tolist()\n",
    "name.sort()"
   ]
  },
  {
   "cell_type": "markdown",
   "metadata": {},
   "source": [
    "My first plot will show the amount of movies produced per year by genre"
   ]
  },
  {
   "cell_type": "code",
   "execution_count": 31,
   "metadata": {},
   "outputs": [
    {
     "data": {
      "image/png": "[encoded data removed]",
      "text/plain": [
       "<matplotlib.figure.Figure at 0x7f75e6c5e470>"
      ]
     },
     "metadata": {
      "needs_background": "light"
     },
     "output_type": "display_data"
    }
   ],
   "source": [
    "width = 0.12\n",
    "index = np.arange(len(movies['2010']))\n",
    "\n",
    "plt.bar(index,movies['2010'],width, label='2010')\n",
    "plt.bar(index+ width, movies['2011'],width, label='2011')\n",
    "plt.bar(index+(2*width), movies['2012'],width, label='2012')\n",
    "plt.bar(index+(3*width), movies['2013'],width, label='2013')\n",
    "plt.bar(index+(4*width), movies['2014'],width, label='2014')\n",
    "plt.bar(index+(5*width), movies['2015'],width, label='2015')\n",
    "plt.ylabel('Number of Movies')\n",
    "plt.title('Number of Movies Produced by Year and Genre')\n",
    "plt.xticks( index+(3*width),name, rotation=40) \n",
    "plt.legend()\n",
    "plt.show()\n"
   ]
  },
  {
   "cell_type": "markdown",
   "metadata": {},
   "source": [
    "I see there is an issue with the spacing for the x-labels. I cannot come up with a reason. Your input would be appreciated."
   ]
  },
  {
   "cell_type": "markdown",
   "metadata": {},
   "source": [
    "Next I will look at the popularity per genre per year. I will split the data , then combine them into one series and take care of any Na's"
   ]
  },
  {
   "cell_type": "code",
   "execution_count": 32,
   "metadata": {},
   "outputs": [],
   "source": [
    "moV10_pop = movies10.groupby('genres')['popularity'].mean()\n",
    "moV11_pop = movies11.groupby('genres')['popularity'].mean()\n",
    "moV12_pop = movies12.groupby('genres')['popularity'].mean()\n",
    "moV13_pop = movies13.groupby('genres')['popularity'].mean()\n",
    "moV14_pop = movies14.groupby('genres')['popularity'].mean()\n",
    "moV15_pop = movies15.groupby('genres')['popularity'].mean()"
   ]
  },
  {
   "cell_type": "code",
   "execution_count": 33,
   "metadata": {},
   "outputs": [
    {
     "data": {
      "text/html": [
       "<div>\n",
       "<style scoped>\n",
       "    .dataframe tbody tr th:only-of-type {\n",
       "        vertical-align: middle;\n",
       "    }\n",
       "\n",
       "    .dataframe tbody tr th {\n",
       "        vertical-align: top;\n",
       "    }\n",
       "\n",
       "    .dataframe thead th {\n",
       "        text-align: right;\n",
       "    }\n",
       "</style>\n",
       "<table border=\"1\" class=\"dataframe\">\n",
       "  <thead>\n",
       "    <tr style=\"text-align: right;\">\n",
       "      <th></th>\n",
       "      <th>popularity</th>\n",
       "      <th>popularity</th>\n",
       "      <th>popularity</th>\n",
       "      <th>popularity</th>\n",
       "      <th>popularity</th>\n",
       "      <th>popularity</th>\n",
       "    </tr>\n",
       "  </thead>\n",
       "  <tbody>\n",
       "    <tr>\n",
       "      <th>Action</th>\n",
       "      <td>1.025166</td>\n",
       "      <td>1.012548</td>\n",
       "      <td>1.056954</td>\n",
       "      <td>0.969048</td>\n",
       "      <td>1.954755</td>\n",
       "      <td>2.881386</td>\n",
       "    </tr>\n",
       "    <tr>\n",
       "      <th>Adventure</th>\n",
       "      <td>1.600994</td>\n",
       "      <td>1.216805</td>\n",
       "      <td>1.105026</td>\n",
       "      <td>0.935867</td>\n",
       "      <td>2.363833</td>\n",
       "      <td>2.149264</td>\n",
       "    </tr>\n",
       "    <tr>\n",
       "      <th>Animation</th>\n",
       "      <td>0.595166</td>\n",
       "      <td>0.885230</td>\n",
       "      <td>0.885061</td>\n",
       "      <td>1.065841</td>\n",
       "      <td>0.815055</td>\n",
       "      <td>0.606748</td>\n",
       "    </tr>\n",
       "    <tr>\n",
       "      <th>Comedy</th>\n",
       "      <td>0.547223</td>\n",
       "      <td>0.671555</td>\n",
       "      <td>0.468286</td>\n",
       "      <td>0.544254</td>\n",
       "      <td>0.722765</td>\n",
       "      <td>0.923022</td>\n",
       "    </tr>\n",
       "    <tr>\n",
       "      <th>Crime</th>\n",
       "      <td>0.546363</td>\n",
       "      <td>0.541410</td>\n",
       "      <td>0.787069</td>\n",
       "      <td>0.835374</td>\n",
       "      <td>1.212061</td>\n",
       "      <td>1.824494</td>\n",
       "    </tr>\n",
       "  </tbody>\n",
       "</table>\n",
       "</div>"
      ],
      "text/plain": [
       "           popularity  popularity  popularity  popularity  popularity  \\\n",
       "Action       1.025166    1.012548    1.056954    0.969048    1.954755   \n",
       "Adventure    1.600994    1.216805    1.105026    0.935867    2.363833   \n",
       "Animation    0.595166    0.885230    0.885061    1.065841    0.815055   \n",
       "Comedy       0.547223    0.671555    0.468286    0.544254    0.722765   \n",
       "Crime        0.546363    0.541410    0.787069    0.835374    1.212061   \n",
       "\n",
       "           popularity  \n",
       "Action       2.881386  \n",
       "Adventure    2.149264  \n",
       "Animation    0.606748  \n",
       "Comedy       0.923022  \n",
       "Crime        1.824494  "
      ]
     },
     "execution_count": 33,
     "metadata": {},
     "output_type": "execute_result"
    }
   ],
   "source": [
    "movies_pop = pd.concat([moV10_pop,moV11_pop,moV12_pop,moV13_pop,moV14_pop,moV15_pop],axis=1, sort=False)\n",
    "movies_pop.fillna(0,inplace=True)  # I know there are Nan values that will cause problems\n",
    "movies_pop.head()"
   ]
  },
  {
   "cell_type": "markdown",
   "metadata": {},
   "source": [
    "Again, I need to change the column names"
   ]
  },
  {
   "cell_type": "code",
   "execution_count": 34,
   "metadata": {},
   "outputs": [],
   "source": [
    "column_rename_multiple_same(movies_pop,'popularity')\n",
    "movies_pop.rename(columns={ 'popularity1':'2010','popularity2': \"2011\",'popularity3':'2012', 'popularity4':'2013', 'popularity5':'2014', 'popularity6':'2015',}, inplace=True)"
   ]
  },
  {
   "cell_type": "markdown",
   "metadata": {},
   "source": [
    "Plot of popularity of genre per year"
   ]
  },
  {
   "cell_type": "code",
   "execution_count": 35,
   "metadata": {},
   "outputs": [
    {
     "data": {
      "image/png": "[encoded data removed]",
      "text/plain": [
       "<matplotlib.figure.Figure at 0x7f75e68f81d0>"
      ]
     },
     "metadata": {
      "needs_background": "light"
     },
     "output_type": "display_data"
    }
   ],
   "source": [
    "width = 0.12\n",
    "index = np.arange(len(movies_pop))\n",
    "\n",
    "plt.bar(index,movies_pop['2010'],width, label='2010')\n",
    "plt.bar(index+ width, movies_pop['2011'],width, label='2011')\n",
    "plt.bar(index+(2*width), movies_pop['2012'],width, label='2012')\n",
    "plt.bar(index+(3*width), movies_pop['2013'],width, label='2013')\n",
    "plt.bar(index+(4*width), movies_pop['2014'],width, label='2014')\n",
    "plt.bar(index+(5*width), movies_pop['2015'],width, label='2015')\n",
    "plt.ylabel('Popularity')\n",
    "plt.title('Popularity of Genre by Year')\n",
    "plt.xticks( index+(3*width),name, rotation=40)\n",
    "plt.legend()\n",
    "plt.show()\n"
   ]
  },
  {
   "cell_type": "markdown",
   "metadata": {},
   "source": [
    "Now I'll look at the three most popular movies per year. First I identify them, then collect them into one series, and verify. There should be a total of 18, 3 per year."
   ]
  },
  {
   "cell_type": "code",
   "execution_count": 36,
   "metadata": {},
   "outputs": [
    {
     "data": {
      "text/html": [
       "<div>\n",
       "<style scoped>\n",
       "    .dataframe tbody tr th:only-of-type {\n",
       "        vertical-align: middle;\n",
       "    }\n",
       "\n",
       "    .dataframe tbody tr th {\n",
       "        vertical-align: top;\n",
       "    }\n",
       "\n",
       "    .dataframe thead th {\n",
       "        text-align: right;\n",
       "    }\n",
       "</style>\n",
       "<table border=\"1\" class=\"dataframe\">\n",
       "  <thead>\n",
       "    <tr style=\"text-align: right;\">\n",
       "      <th></th>\n",
       "      <th>id</th>\n",
       "      <th>popularity</th>\n",
       "      <th>budget</th>\n",
       "      <th>revenue</th>\n",
       "      <th>original_title</th>\n",
       "      <th>director</th>\n",
       "      <th>genres</th>\n",
       "      <th>production_companies</th>\n",
       "      <th>release_year</th>\n",
       "      <th>profit</th>\n",
       "    </tr>\n",
       "  </thead>\n",
       "  <tbody>\n",
       "    <tr>\n",
       "      <th>1919</th>\n",
       "      <td>27205</td>\n",
       "      <td>9.363643</td>\n",
       "      <td>160000000</td>\n",
       "      <td>825500000</td>\n",
       "      <td>Inception</td>\n",
       "      <td>Christopher Nolan</td>\n",
       "      <td>Action</td>\n",
       "      <td>Legendary Pictures</td>\n",
       "      <td>2010</td>\n",
       "      <td>665500000</td>\n",
       "    </tr>\n",
       "    <tr>\n",
       "      <th>1920</th>\n",
       "      <td>10138</td>\n",
       "      <td>5.704860</td>\n",
       "      <td>200000000</td>\n",
       "      <td>623933331</td>\n",
       "      <td>Iron Man 2</td>\n",
       "      <td>Jon Favreau</td>\n",
       "      <td>Adventure</td>\n",
       "      <td>Marvel Studios</td>\n",
       "      <td>2010</td>\n",
       "      <td>423933331</td>\n",
       "    </tr>\n",
       "    <tr>\n",
       "      <th>1921</th>\n",
       "      <td>12155</td>\n",
       "      <td>5.572950</td>\n",
       "      <td>200000000</td>\n",
       "      <td>1025467110</td>\n",
       "      <td>Alice in Wonderland</td>\n",
       "      <td>Tim Burton</td>\n",
       "      <td>Family</td>\n",
       "      <td>Walt Disney Pictures</td>\n",
       "      <td>2010</td>\n",
       "      <td>825467110</td>\n",
       "    </tr>\n",
       "    <tr>\n",
       "      <th>3371</th>\n",
       "      <td>161337</td>\n",
       "      <td>8.411577</td>\n",
       "      <td>0</td>\n",
       "      <td>0</td>\n",
       "      <td>Underworld: Endless War</td>\n",
       "      <td>Juno John Lee</td>\n",
       "      <td>Action</td>\n",
       "      <td>unknown</td>\n",
       "      <td>2011</td>\n",
       "      <td>0</td>\n",
       "    </tr>\n",
       "    <tr>\n",
       "      <th>3372</th>\n",
       "      <td>1771</td>\n",
       "      <td>7.959228</td>\n",
       "      <td>140000000</td>\n",
       "      <td>370569774</td>\n",
       "      <td>Captain America: The First Avenger</td>\n",
       "      <td>Joe Johnston</td>\n",
       "      <td>Action</td>\n",
       "      <td>Marvel Studios</td>\n",
       "      <td>2011</td>\n",
       "      <td>230569774</td>\n",
       "    </tr>\n",
       "    <tr>\n",
       "      <th>3373</th>\n",
       "      <td>64690</td>\n",
       "      <td>5.903353</td>\n",
       "      <td>15000000</td>\n",
       "      <td>76175166</td>\n",
       "      <td>Drive</td>\n",
       "      <td>Nicolas Winding Refn</td>\n",
       "      <td>Drama</td>\n",
       "      <td>Bold Films</td>\n",
       "      <td>2011</td>\n",
       "      <td>61175166</td>\n",
       "    </tr>\n",
       "    <tr>\n",
       "      <th>4361</th>\n",
       "      <td>24428</td>\n",
       "      <td>7.637767</td>\n",
       "      <td>220000000</td>\n",
       "      <td>1519557910</td>\n",
       "      <td>The Avengers</td>\n",
       "      <td>Joss Whedon</td>\n",
       "      <td>Science Fiction</td>\n",
       "      <td>Marvel Studios</td>\n",
       "      <td>2012</td>\n",
       "      <td>1299557910</td>\n",
       "    </tr>\n",
       "    <tr>\n",
       "      <th>4362</th>\n",
       "      <td>52520</td>\n",
       "      <td>7.031452</td>\n",
       "      <td>70000000</td>\n",
       "      <td>132400000</td>\n",
       "      <td>Underworld: Awakening</td>\n",
       "      <td>MÃ¥ns MÃ¥rlind|BjÃ¶rn Stein</td>\n",
       "      <td>Fantasy</td>\n",
       "      <td>Lakeshore Entertainment</td>\n",
       "      <td>2012</td>\n",
       "      <td>62400000</td>\n",
       "    </tr>\n",
       "    <tr>\n",
       "      <th>4363</th>\n",
       "      <td>49026</td>\n",
       "      <td>6.591277</td>\n",
       "      <td>250000000</td>\n",
       "      <td>1081041287</td>\n",
       "      <td>The Dark Knight Rises</td>\n",
       "      <td>Christopher Nolan</td>\n",
       "      <td>Action</td>\n",
       "      <td>Legendary Pictures</td>\n",
       "      <td>2012</td>\n",
       "      <td>831041287</td>\n",
       "    </tr>\n",
       "    <tr>\n",
       "      <th>5422</th>\n",
       "      <td>109445</td>\n",
       "      <td>6.112766</td>\n",
       "      <td>150000000</td>\n",
       "      <td>1274219009</td>\n",
       "      <td>Frozen</td>\n",
       "      <td>Chris Buck|Jennifer Lee</td>\n",
       "      <td>Animation</td>\n",
       "      <td>Walt Disney Pictures</td>\n",
       "      <td>2013</td>\n",
       "      <td>1124219009</td>\n",
       "    </tr>\n",
       "    <tr>\n",
       "      <th>5423</th>\n",
       "      <td>49047</td>\n",
       "      <td>5.242753</td>\n",
       "      <td>105000000</td>\n",
       "      <td>716392705</td>\n",
       "      <td>Gravity</td>\n",
       "      <td>Alfonso CuarÃ³n</td>\n",
       "      <td>Science Fiction</td>\n",
       "      <td>Warner Bros.</td>\n",
       "      <td>2013</td>\n",
       "      <td>611392705</td>\n",
       "    </tr>\n",
       "    <tr>\n",
       "      <th>5424</th>\n",
       "      <td>76338</td>\n",
       "      <td>5.111900</td>\n",
       "      <td>170000000</td>\n",
       "      <td>479765000</td>\n",
       "      <td>Thor: The Dark World</td>\n",
       "      <td>Alan Taylor</td>\n",
       "      <td>Action</td>\n",
       "      <td>Marvel Studios</td>\n",
       "      <td>2013</td>\n",
       "      <td>309765000</td>\n",
       "    </tr>\n",
       "    <tr>\n",
       "      <th>629</th>\n",
       "      <td>157336</td>\n",
       "      <td>24.949134</td>\n",
       "      <td>165000000</td>\n",
       "      <td>621752480</td>\n",
       "      <td>Interstellar</td>\n",
       "      <td>Christopher Nolan</td>\n",
       "      <td>Adventure</td>\n",
       "      <td>Paramount Pictures</td>\n",
       "      <td>2014</td>\n",
       "      <td>456752480</td>\n",
       "    </tr>\n",
       "    <tr>\n",
       "      <th>630</th>\n",
       "      <td>118340</td>\n",
       "      <td>14.311205</td>\n",
       "      <td>170000000</td>\n",
       "      <td>773312399</td>\n",
       "      <td>Guardians of the Galaxy</td>\n",
       "      <td>James Gunn</td>\n",
       "      <td>Action</td>\n",
       "      <td>Marvel Studios</td>\n",
       "      <td>2014</td>\n",
       "      <td>603312399</td>\n",
       "    </tr>\n",
       "    <tr>\n",
       "      <th>631</th>\n",
       "      <td>100402</td>\n",
       "      <td>12.971027</td>\n",
       "      <td>170000000</td>\n",
       "      <td>714766572</td>\n",
       "      <td>Captain America: The Winter Soldier</td>\n",
       "      <td>Joe Russo|Anthony Russo</td>\n",
       "      <td>Action</td>\n",
       "      <td>Marvel Studios</td>\n",
       "      <td>2014</td>\n",
       "      <td>544766572</td>\n",
       "    </tr>\n",
       "    <tr>\n",
       "      <th>0</th>\n",
       "      <td>135397</td>\n",
       "      <td>32.985763</td>\n",
       "      <td>150000000</td>\n",
       "      <td>1513528810</td>\n",
       "      <td>Jurassic World</td>\n",
       "      <td>Colin Trevorrow</td>\n",
       "      <td>Action</td>\n",
       "      <td>Universal Studios</td>\n",
       "      <td>2015</td>\n",
       "      <td>1363528810</td>\n",
       "    </tr>\n",
       "    <tr>\n",
       "      <th>1</th>\n",
       "      <td>76341</td>\n",
       "      <td>28.419936</td>\n",
       "      <td>150000000</td>\n",
       "      <td>378436354</td>\n",
       "      <td>Mad Max: Fury Road</td>\n",
       "      <td>George Miller</td>\n",
       "      <td>Action</td>\n",
       "      <td>Village Roadshow Pictures</td>\n",
       "      <td>2015</td>\n",
       "      <td>228436354</td>\n",
       "    </tr>\n",
       "    <tr>\n",
       "      <th>2</th>\n",
       "      <td>262500</td>\n",
       "      <td>13.112507</td>\n",
       "      <td>110000000</td>\n",
       "      <td>295238201</td>\n",
       "      <td>Insurgent</td>\n",
       "      <td>Robert Schwentke</td>\n",
       "      <td>Adventure</td>\n",
       "      <td>Summit Entertainment</td>\n",
       "      <td>2015</td>\n",
       "      <td>185238201</td>\n",
       "    </tr>\n",
       "  </tbody>\n",
       "</table>\n",
       "</div>"
      ],
      "text/plain": [
       "          id  popularity     budget     revenue  \\\n",
       "1919   27205    9.363643  160000000   825500000   \n",
       "1920   10138    5.704860  200000000   623933331   \n",
       "1921   12155    5.572950  200000000  1025467110   \n",
       "3371  161337    8.411577          0           0   \n",
       "3372    1771    7.959228  140000000   370569774   \n",
       "3373   64690    5.903353   15000000    76175166   \n",
       "4361   24428    7.637767  220000000  1519557910   \n",
       "4362   52520    7.031452   70000000   132400000   \n",
       "4363   49026    6.591277  250000000  1081041287   \n",
       "5422  109445    6.112766  150000000  1274219009   \n",
       "5423   49047    5.242753  105000000   716392705   \n",
       "5424   76338    5.111900  170000000   479765000   \n",
       "629   157336   24.949134  165000000   621752480   \n",
       "630   118340   14.311205  170000000   773312399   \n",
       "631   100402   12.971027  170000000   714766572   \n",
       "0     135397   32.985763  150000000  1513528810   \n",
       "1      76341   28.419936  150000000   378436354   \n",
       "2     262500   13.112507  110000000   295238201   \n",
       "\n",
       "                           original_title                     director  \\\n",
       "1919                            Inception            Christopher Nolan   \n",
       "1920                           Iron Man 2                  Jon Favreau   \n",
       "1921                  Alice in Wonderland                   Tim Burton   \n",
       "3371              Underworld: Endless War                Juno John Lee   \n",
       "3372   Captain America: The First Avenger                 Joe Johnston   \n",
       "3373                                Drive         Nicolas Winding Refn   \n",
       "4361                         The Avengers                  Joss Whedon   \n",
       "4362                Underworld: Awakening  MÃ¥ns MÃ¥rlind|BjÃ¶rn Stein   \n",
       "4363                The Dark Knight Rises            Christopher Nolan   \n",
       "5422                               Frozen      Chris Buck|Jennifer Lee   \n",
       "5423                              Gravity              Alfonso CuarÃ³n   \n",
       "5424                 Thor: The Dark World                  Alan Taylor   \n",
       "629                          Interstellar            Christopher Nolan   \n",
       "630               Guardians of the Galaxy                   James Gunn   \n",
       "631   Captain America: The Winter Soldier      Joe Russo|Anthony Russo   \n",
       "0                          Jurassic World              Colin Trevorrow   \n",
       "1                      Mad Max: Fury Road                George Miller   \n",
       "2                               Insurgent             Robert Schwentke   \n",
       "\n",
       "               genres       production_companies  release_year      profit  \n",
       "1919           Action         Legendary Pictures          2010   665500000  \n",
       "1920        Adventure             Marvel Studios          2010   423933331  \n",
       "1921           Family       Walt Disney Pictures          2010   825467110  \n",
       "3371           Action                    unknown          2011           0  \n",
       "3372           Action             Marvel Studios          2011   230569774  \n",
       "3373            Drama                 Bold Films          2011    61175166  \n",
       "4361  Science Fiction             Marvel Studios          2012  1299557910  \n",
       "4362          Fantasy    Lakeshore Entertainment          2012    62400000  \n",
       "4363           Action         Legendary Pictures          2012   831041287  \n",
       "5422        Animation       Walt Disney Pictures          2013  1124219009  \n",
       "5423  Science Fiction               Warner Bros.          2013   611392705  \n",
       "5424           Action             Marvel Studios          2013   309765000  \n",
       "629         Adventure         Paramount Pictures          2014   456752480  \n",
       "630            Action             Marvel Studios          2014   603312399  \n",
       "631            Action             Marvel Studios          2014   544766572  \n",
       "0              Action          Universal Studios          2015  1363528810  \n",
       "1              Action  Village Roadshow Pictures          2015   228436354  \n",
       "2           Adventure       Summit Entertainment          2015   185238201  "
      ]
     },
     "execution_count": 36,
     "metadata": {},
     "output_type": "execute_result"
    }
   ],
   "source": [
    "look_at_popularity_10 = movies10.nlargest(3,['popularity'])\n",
    "look_at_popularity_11 = movies11.nlargest(3,['popularity'])\n",
    "look_at_popularity_12 = movies12.nlargest(3,['popularity'])\n",
    "look_at_popularity_13 = movies13.nlargest(3,['popularity'])\n",
    "look_at_popularity_14 = movies14.nlargest(3,['popularity'])\n",
    "look_at_popularity_15 = movies15.nlargest(3,['popularity'])\n",
    "TopPopular = pd.concat([look_at_popularity_10,look_at_popularity_11,look_at_popularity_12,look_at_popularity_13,look_at_popularity_14,look_at_popularity_15],axis=0, sort=False)\n",
    "TopPopular"
   ]
  },
  {
   "cell_type": "markdown",
   "metadata": {},
   "source": [
    "Now I would like to look at the genres of the most popular"
   ]
  },
  {
   "cell_type": "code",
   "execution_count": 37,
   "metadata": {},
   "outputs": [
    {
     "data": {
      "text/plain": [
       "1919             Action\n",
       "1920          Adventure\n",
       "1921             Family\n",
       "3371             Action\n",
       "3372             Action\n",
       "3373              Drama\n",
       "4361    Science Fiction\n",
       "4362            Fantasy\n",
       "4363             Action\n",
       "5422          Animation\n",
       "5423    Science Fiction\n",
       "5424             Action\n",
       "629           Adventure\n",
       "630              Action\n",
       "631              Action\n",
       "0                Action\n",
       "1                Action\n",
       "2             Adventure\n",
       "Name: genres, dtype: object"
      ]
     },
     "execution_count": 37,
     "metadata": {},
     "output_type": "execute_result"
    }
   ],
   "source": [
    "TP10 = look_at_popularity_10.genres\n",
    "TP11 = look_at_popularity_11.genres\n",
    "TP12 = look_at_popularity_12.genres\n",
    "TP13 = look_at_popularity_13.genres\n",
    "TP14 = look_at_popularity_14.genres\n",
    "TP15 = look_at_popularity_15.genres\n",
    "Top3Genres = pd.concat([TP10,TP11,TP12,TP13,TP14,TP15],axis=0, sort=False)\n",
    "Top3Genres"
   ]
  },
  {
   "cell_type": "markdown",
   "metadata": {},
   "source": [
    "Display as a pie chart"
   ]
  },
  {
   "cell_type": "code",
   "execution_count": 38,
   "metadata": {},
   "outputs": [
    {
     "data": {
      "image/png": "[encoded data removed]",
      "text/plain": [
       "<matplotlib.figure.Figure at 0x7f75e68c5a20>"
      ]
     },
     "metadata": {},
     "output_type": "display_data"
    }
   ],
   "source": [
    "labels = Top3Genres.loc[:1].unique().tolist()\n",
    "count = Top3Genres.loc[:2].value_counts()\n",
    "fig1, ax1 = plt.subplots()\n",
    "ax1.pie(count, labels=labels, autopct='%1.1f%%')\n",
    "ax1.axis('equal')\n",
    "plt.title('Top 3 Popular Genres per Year in 2010-2015')\n",
    "plt.show()"
   ]
  },
  {
   "cell_type": "markdown",
   "metadata": {},
   "source": [
    "Now I will look at the profit margin by taking the top three profitable movies per year and combine into one file"
   ]
  },
  {
   "cell_type": "code",
   "execution_count": 39,
   "metadata": {},
   "outputs": [
    {
     "data": {
      "text/html": [
       "<div>\n",
       "<style scoped>\n",
       "    .dataframe tbody tr th:only-of-type {\n",
       "        vertical-align: middle;\n",
       "    }\n",
       "\n",
       "    .dataframe tbody tr th {\n",
       "        vertical-align: top;\n",
       "    }\n",
       "\n",
       "    .dataframe thead th {\n",
       "        text-align: right;\n",
       "    }\n",
       "</style>\n",
       "<table border=\"1\" class=\"dataframe\">\n",
       "  <thead>\n",
       "    <tr style=\"text-align: right;\">\n",
       "      <th></th>\n",
       "      <th>id</th>\n",
       "      <th>popularity</th>\n",
       "      <th>budget</th>\n",
       "      <th>revenue</th>\n",
       "      <th>original_title</th>\n",
       "      <th>director</th>\n",
       "      <th>genres</th>\n",
       "      <th>production_companies</th>\n",
       "      <th>release_year</th>\n",
       "      <th>profit</th>\n",
       "    </tr>\n",
       "  </thead>\n",
       "  <tbody>\n",
       "    <tr>\n",
       "      <th>1930</th>\n",
       "      <td>10193</td>\n",
       "      <td>2.711136</td>\n",
       "      <td>200000000</td>\n",
       "      <td>1063171911</td>\n",
       "      <td>Toy Story 3</td>\n",
       "      <td>Lee Unkrich</td>\n",
       "      <td>Animation</td>\n",
       "      <td>Walt Disney Pictures</td>\n",
       "      <td>2010</td>\n",
       "      <td>863171911</td>\n",
       "    </tr>\n",
       "    <tr>\n",
       "      <th>1921</th>\n",
       "      <td>12155</td>\n",
       "      <td>5.572950</td>\n",
       "      <td>200000000</td>\n",
       "      <td>1025467110</td>\n",
       "      <td>Alice in Wonderland</td>\n",
       "      <td>Tim Burton</td>\n",
       "      <td>Family</td>\n",
       "      <td>Walt Disney Pictures</td>\n",
       "      <td>2010</td>\n",
       "      <td>825467110</td>\n",
       "    </tr>\n",
       "    <tr>\n",
       "      <th>1923</th>\n",
       "      <td>12444</td>\n",
       "      <td>4.840588</td>\n",
       "      <td>250000000</td>\n",
       "      <td>954305868</td>\n",
       "      <td>Harry Potter and the Deathly Hallows: Part 1</td>\n",
       "      <td>David Yates</td>\n",
       "      <td>Adventure</td>\n",
       "      <td>Warner Bros.</td>\n",
       "      <td>2010</td>\n",
       "      <td>704305868</td>\n",
       "    </tr>\n",
       "    <tr>\n",
       "      <th>3374</th>\n",
       "      <td>12445</td>\n",
       "      <td>5.711315</td>\n",
       "      <td>125000000</td>\n",
       "      <td>1327817822</td>\n",
       "      <td>Harry Potter and the Deathly Hallows: Part 2</td>\n",
       "      <td>David Yates</td>\n",
       "      <td>Adventure</td>\n",
       "      <td>Warner Bros.</td>\n",
       "      <td>2011</td>\n",
       "      <td>1202817822</td>\n",
       "    </tr>\n",
       "    <tr>\n",
       "      <th>3522</th>\n",
       "      <td>38356</td>\n",
       "      <td>0.760503</td>\n",
       "      <td>195000000</td>\n",
       "      <td>1123746996</td>\n",
       "      <td>Transformers: Dark of the Moon</td>\n",
       "      <td>Michael Bay</td>\n",
       "      <td>Action</td>\n",
       "      <td>Paramount Pictures</td>\n",
       "      <td>2011</td>\n",
       "      <td>928746996</td>\n",
       "    </tr>\n",
       "    <tr>\n",
       "      <th>3375</th>\n",
       "      <td>1865</td>\n",
       "      <td>4.955130</td>\n",
       "      <td>380000000</td>\n",
       "      <td>1021683000</td>\n",
       "      <td>Pirates of the Caribbean: On Stranger Tides</td>\n",
       "      <td>Rob Marshall</td>\n",
       "      <td>Adventure</td>\n",
       "      <td>Walt Disney Pictures</td>\n",
       "      <td>2011</td>\n",
       "      <td>641683000</td>\n",
       "    </tr>\n",
       "    <tr>\n",
       "      <th>4361</th>\n",
       "      <td>24428</td>\n",
       "      <td>7.637767</td>\n",
       "      <td>220000000</td>\n",
       "      <td>1519557910</td>\n",
       "      <td>The Avengers</td>\n",
       "      <td>Joss Whedon</td>\n",
       "      <td>Science Fiction</td>\n",
       "      <td>Marvel Studios</td>\n",
       "      <td>2012</td>\n",
       "      <td>1299557910</td>\n",
       "    </tr>\n",
       "    <tr>\n",
       "      <th>4365</th>\n",
       "      <td>37724</td>\n",
       "      <td>5.603587</td>\n",
       "      <td>200000000</td>\n",
       "      <td>1108561013</td>\n",
       "      <td>Skyfall</td>\n",
       "      <td>Sam Mendes</td>\n",
       "      <td>Action</td>\n",
       "      <td>Columbia Pictures</td>\n",
       "      <td>2012</td>\n",
       "      <td>908561013</td>\n",
       "    </tr>\n",
       "    <tr>\n",
       "      <th>4363</th>\n",
       "      <td>49026</td>\n",
       "      <td>6.591277</td>\n",
       "      <td>250000000</td>\n",
       "      <td>1081041287</td>\n",
       "      <td>The Dark Knight Rises</td>\n",
       "      <td>Christopher Nolan</td>\n",
       "      <td>Action</td>\n",
       "      <td>Legendary Pictures</td>\n",
       "      <td>2012</td>\n",
       "      <td>831041287</td>\n",
       "    </tr>\n",
       "    <tr>\n",
       "      <th>5422</th>\n",
       "      <td>109445</td>\n",
       "      <td>6.112766</td>\n",
       "      <td>150000000</td>\n",
       "      <td>1274219009</td>\n",
       "      <td>Frozen</td>\n",
       "      <td>Chris Buck|Jennifer Lee</td>\n",
       "      <td>Animation</td>\n",
       "      <td>Walt Disney Pictures</td>\n",
       "      <td>2013</td>\n",
       "      <td>1124219009</td>\n",
       "    </tr>\n",
       "    <tr>\n",
       "      <th>5425</th>\n",
       "      <td>68721</td>\n",
       "      <td>4.946136</td>\n",
       "      <td>200000000</td>\n",
       "      <td>1215439994</td>\n",
       "      <td>Iron Man 3</td>\n",
       "      <td>Shane Black</td>\n",
       "      <td>Action</td>\n",
       "      <td>Marvel Studios</td>\n",
       "      <td>2013</td>\n",
       "      <td>1015439994</td>\n",
       "    </tr>\n",
       "    <tr>\n",
       "      <th>5434</th>\n",
       "      <td>93456</td>\n",
       "      <td>3.928789</td>\n",
       "      <td>76000000</td>\n",
       "      <td>970761885</td>\n",
       "      <td>Despicable Me 2</td>\n",
       "      <td>Pierre Coffin|Chris Renaud</td>\n",
       "      <td>Animation</td>\n",
       "      <td>Universal Pictures</td>\n",
       "      <td>2013</td>\n",
       "      <td>894761885</td>\n",
       "    </tr>\n",
       "    <tr>\n",
       "      <th>634</th>\n",
       "      <td>122917</td>\n",
       "      <td>10.174599</td>\n",
       "      <td>250000000</td>\n",
       "      <td>955119788</td>\n",
       "      <td>The Hobbit: The Battle of the Five Armies</td>\n",
       "      <td>Peter Jackson</td>\n",
       "      <td>Adventure</td>\n",
       "      <td>WingNut Films</td>\n",
       "      <td>2014</td>\n",
       "      <td>705119788</td>\n",
       "    </tr>\n",
       "    <tr>\n",
       "      <th>633</th>\n",
       "      <td>131631</td>\n",
       "      <td>10.739009</td>\n",
       "      <td>125000000</td>\n",
       "      <td>752100229</td>\n",
       "      <td>The Hunger Games: Mockingjay - Part 1</td>\n",
       "      <td>Francis Lawrence</td>\n",
       "      <td>Science Fiction</td>\n",
       "      <td>Lionsgate</td>\n",
       "      <td>2014</td>\n",
       "      <td>627100229</td>\n",
       "    </tr>\n",
       "    <tr>\n",
       "      <th>630</th>\n",
       "      <td>118340</td>\n",
       "      <td>14.311205</td>\n",
       "      <td>170000000</td>\n",
       "      <td>773312399</td>\n",
       "      <td>Guardians of the Galaxy</td>\n",
       "      <td>James Gunn</td>\n",
       "      <td>Action</td>\n",
       "      <td>Marvel Studios</td>\n",
       "      <td>2014</td>\n",
       "      <td>603312399</td>\n",
       "    </tr>\n",
       "    <tr>\n",
       "      <th>3</th>\n",
       "      <td>140607</td>\n",
       "      <td>11.173104</td>\n",
       "      <td>200000000</td>\n",
       "      <td>2068178225</td>\n",
       "      <td>Star Wars: The Force Awakens</td>\n",
       "      <td>J.J. Abrams</td>\n",
       "      <td>Action</td>\n",
       "      <td>Lucasfilm</td>\n",
       "      <td>2015</td>\n",
       "      <td>1868178225</td>\n",
       "    </tr>\n",
       "    <tr>\n",
       "      <th>0</th>\n",
       "      <td>135397</td>\n",
       "      <td>32.985763</td>\n",
       "      <td>150000000</td>\n",
       "      <td>1513528810</td>\n",
       "      <td>Jurassic World</td>\n",
       "      <td>Colin Trevorrow</td>\n",
       "      <td>Action</td>\n",
       "      <td>Universal Studios</td>\n",
       "      <td>2015</td>\n",
       "      <td>1363528810</td>\n",
       "    </tr>\n",
       "    <tr>\n",
       "      <th>4</th>\n",
       "      <td>168259</td>\n",
       "      <td>9.335014</td>\n",
       "      <td>190000000</td>\n",
       "      <td>1506249360</td>\n",
       "      <td>Furious 7</td>\n",
       "      <td>James Wan</td>\n",
       "      <td>Action</td>\n",
       "      <td>Universal Pictures</td>\n",
       "      <td>2015</td>\n",
       "      <td>1316249360</td>\n",
       "    </tr>\n",
       "  </tbody>\n",
       "</table>\n",
       "</div>"
      ],
      "text/plain": [
       "          id  popularity     budget     revenue  \\\n",
       "1930   10193    2.711136  200000000  1063171911   \n",
       "1921   12155    5.572950  200000000  1025467110   \n",
       "1923   12444    4.840588  250000000   954305868   \n",
       "3374   12445    5.711315  125000000  1327817822   \n",
       "3522   38356    0.760503  195000000  1123746996   \n",
       "3375    1865    4.955130  380000000  1021683000   \n",
       "4361   24428    7.637767  220000000  1519557910   \n",
       "4365   37724    5.603587  200000000  1108561013   \n",
       "4363   49026    6.591277  250000000  1081041287   \n",
       "5422  109445    6.112766  150000000  1274219009   \n",
       "5425   68721    4.946136  200000000  1215439994   \n",
       "5434   93456    3.928789   76000000   970761885   \n",
       "634   122917   10.174599  250000000   955119788   \n",
       "633   131631   10.739009  125000000   752100229   \n",
       "630   118340   14.311205  170000000   773312399   \n",
       "3     140607   11.173104  200000000  2068178225   \n",
       "0     135397   32.985763  150000000  1513528810   \n",
       "4     168259    9.335014  190000000  1506249360   \n",
       "\n",
       "                                    original_title  \\\n",
       "1930                                   Toy Story 3   \n",
       "1921                           Alice in Wonderland   \n",
       "1923  Harry Potter and the Deathly Hallows: Part 1   \n",
       "3374  Harry Potter and the Deathly Hallows: Part 2   \n",
       "3522                Transformers: Dark of the Moon   \n",
       "3375   Pirates of the Caribbean: On Stranger Tides   \n",
       "4361                                  The Avengers   \n",
       "4365                                       Skyfall   \n",
       "4363                         The Dark Knight Rises   \n",
       "5422                                        Frozen   \n",
       "5425                                    Iron Man 3   \n",
       "5434                               Despicable Me 2   \n",
       "634      The Hobbit: The Battle of the Five Armies   \n",
       "633          The Hunger Games: Mockingjay - Part 1   \n",
       "630                        Guardians of the Galaxy   \n",
       "3                     Star Wars: The Force Awakens   \n",
       "0                                   Jurassic World   \n",
       "4                                        Furious 7   \n",
       "\n",
       "                        director           genres  production_companies  \\\n",
       "1930                 Lee Unkrich        Animation  Walt Disney Pictures   \n",
       "1921                  Tim Burton           Family  Walt Disney Pictures   \n",
       "1923                 David Yates        Adventure          Warner Bros.   \n",
       "3374                 David Yates        Adventure          Warner Bros.   \n",
       "3522                 Michael Bay           Action    Paramount Pictures   \n",
       "3375                Rob Marshall        Adventure  Walt Disney Pictures   \n",
       "4361                 Joss Whedon  Science Fiction        Marvel Studios   \n",
       "4365                  Sam Mendes           Action     Columbia Pictures   \n",
       "4363           Christopher Nolan           Action    Legendary Pictures   \n",
       "5422     Chris Buck|Jennifer Lee        Animation  Walt Disney Pictures   \n",
       "5425                 Shane Black           Action        Marvel Studios   \n",
       "5434  Pierre Coffin|Chris Renaud        Animation    Universal Pictures   \n",
       "634                Peter Jackson        Adventure         WingNut Films   \n",
       "633             Francis Lawrence  Science Fiction             Lionsgate   \n",
       "630                   James Gunn           Action        Marvel Studios   \n",
       "3                    J.J. Abrams           Action             Lucasfilm   \n",
       "0                Colin Trevorrow           Action     Universal Studios   \n",
       "4                      James Wan           Action    Universal Pictures   \n",
       "\n",
       "      release_year      profit  \n",
       "1930          2010   863171911  \n",
       "1921          2010   825467110  \n",
       "1923          2010   704305868  \n",
       "3374          2011  1202817822  \n",
       "3522          2011   928746996  \n",
       "3375          2011   641683000  \n",
       "4361          2012  1299557910  \n",
       "4365          2012   908561013  \n",
       "4363          2012   831041287  \n",
       "5422          2013  1124219009  \n",
       "5425          2013  1015439994  \n",
       "5434          2013   894761885  \n",
       "634           2014   705119788  \n",
       "633           2014   627100229  \n",
       "630           2014   603312399  \n",
       "3             2015  1868178225  \n",
       "0             2015  1363528810  \n",
       "4             2015  1316249360  "
      ]
     },
     "execution_count": 39,
     "metadata": {},
     "output_type": "execute_result"
    }
   ],
   "source": [
    "TPP10 = movies10.nlargest(3,['profit'])\n",
    "TPP11 = movies11.nlargest(3,['profit'])\n",
    "TPP12 = movies12.nlargest(3,['profit'])\n",
    "TPP13 = movies13.nlargest(3,['profit'])\n",
    "TPP14 = movies14.nlargest(3,['profit'])\n",
    "TPP15 = movies15.nlargest(3,['profit'])\n",
    "TopProfitable = pd.concat([TPP10,TPP11,TPP12,TPP13,TPP14,TPP15],axis=0, sort=False)\n",
    "TopProfitable"
   ]
  },
  {
   "cell_type": "markdown",
   "metadata": {},
   "source": [
    "Plot a pie chart of the top 3 profitable movies per year by genre"
   ]
  },
  {
   "cell_type": "code",
   "execution_count": 40,
   "metadata": {},
   "outputs": [
    {
     "data": {
      "image/png": "[encoded data removed]",
      "text/plain": [
       "<matplotlib.figure.Figure at 0x7f75e68c5da0>"
      ]
     },
     "metadata": {},
     "output_type": "display_data"
    }
   ],
   "source": [
    "labels = TopProfitable.iloc[:,6].unique().tolist()\n",
    "TPGenres = TopProfitable.iloc[:,6].value_counts()\n",
    "fig1, ax1 = plt.subplots()\n",
    "ax1.pie(TPGenres, labels=labels, autopct='%1.1f%%')\n",
    "ax1.axis('equal')\n",
    "plt.title('Genres of the Top 3 Most Profitable Movies per Year in 2010-2015')\n",
    "plt.show()"
   ]
  },
  {
   "cell_type": "markdown",
   "metadata": {},
   "source": [
    "MOST PROFITABLE LIST OF MOVIES 2010-2015"
   ]
  },
  {
   "cell_type": "code",
   "execution_count": 47,
   "metadata": {},
   "outputs": [
    {
     "data": {
      "text/plain": [
       "1930                                     Toy Story 3\n",
       "1921                             Alice in Wonderland\n",
       "1923    Harry Potter and the Deathly Hallows: Part 1\n",
       "3374    Harry Potter and the Deathly Hallows: Part 2\n",
       "3522                  Transformers: Dark of the Moon\n",
       "3375     Pirates of the Caribbean: On Stranger Tides\n",
       "4361                                    The Avengers\n",
       "4365                                         Skyfall\n",
       "4363                           The Dark Knight Rises\n",
       "5422                                          Frozen\n",
       "5425                                      Iron Man 3\n",
       "5434                                 Despicable Me 2\n",
       "634        The Hobbit: The Battle of the Five Armies\n",
       "633            The Hunger Games: Mockingjay - Part 1\n",
       "630                          Guardians of the Galaxy\n",
       "3                       Star Wars: The Force Awakens\n",
       "0                                     Jurassic World\n",
       "4                                          Furious 7\n",
       "Name: original_title, dtype: object"
      ]
     },
     "execution_count": 47,
     "metadata": {},
     "output_type": "execute_result"
    }
   ],
   "source": [
    "TopProfitable['original_title']"
   ]
  },
  {
   "cell_type": "markdown",
   "metadata": {},
   "source": [
    "MOST POPULAR LIST OF MOVIES 2010-2015"
   ]
  },
  {
   "cell_type": "code",
   "execution_count": 42,
   "metadata": {},
   "outputs": [
    {
     "data": {
      "text/plain": [
       "1919                              Inception\n",
       "1920                             Iron Man 2\n",
       "1921                    Alice in Wonderland\n",
       "3371                Underworld: Endless War\n",
       "3372     Captain America: The First Avenger\n",
       "3373                                  Drive\n",
       "4361                           The Avengers\n",
       "4362                  Underworld: Awakening\n",
       "4363                  The Dark Knight Rises\n",
       "5422                                 Frozen\n",
       "5423                                Gravity\n",
       "5424                   Thor: The Dark World\n",
       "629                            Interstellar\n",
       "630                 Guardians of the Galaxy\n",
       "631     Captain America: The Winter Soldier\n",
       "0                            Jurassic World\n",
       "1                        Mad Max: Fury Road\n",
       "2                                 Insurgent\n",
       "Name: original_title, dtype: object"
      ]
     },
     "execution_count": 42,
     "metadata": {},
     "output_type": "execute_result"
    }
   ],
   "source": [
    "TopPopular['original_title']"
   ]
  },
  {
   "cell_type": "markdown",
   "metadata": {},
   "source": [
    "What movies are both Popular and Profitable "
   ]
  },
  {
   "cell_type": "code",
   "execution_count": 43,
   "metadata": {
    "scrolled": true
   },
   "outputs": [
    {
     "data": {
      "text/plain": [
       "{'Alice in Wonderland',\n",
       " 'Frozen',\n",
       " 'Guardians of the Galaxy',\n",
       " 'Jurassic World',\n",
       " 'The Avengers',\n",
       " 'The Dark Knight Rises'}"
      ]
     },
     "execution_count": 43,
     "metadata": {},
     "output_type": "execute_result"
    }
   ],
   "source": [
    "set(TopPopular['original_title']) & set(TopProfitable['original_title'])"
   ]
  },
  {
   "cell_type": "markdown",
   "metadata": {},
   "source": [
    "What are the genres of the movies that are both Popular and Profitable"
   ]
  },
  {
   "cell_type": "code",
   "execution_count": 48,
   "metadata": {},
   "outputs": [
    {
     "data": {
      "text/plain": [
       "{'Action', 'Adventure', 'Animation', 'Family', 'Science Fiction'}"
      ]
     },
     "execution_count": 48,
     "metadata": {},
     "output_type": "execute_result"
    }
   ],
   "source": [
    "set(TopPopular['genres']) & set(TopProfitable['genres'])"
   ]
  },
  {
   "cell_type": "markdown",
   "metadata": {},
   "source": [
    "# 18 Most Popular Genres Over 6 Years (2010-2015)"
   ]
  },
  {
   "cell_type": "markdown",
   "metadata": {},
   "source": [
    "This is NOT 3 from each year. It is overall popularity from the 6 years."
   ]
  },
  {
   "cell_type": "code",
   "execution_count": 54,
   "metadata": {},
   "outputs": [],
   "source": [
    "moviesPopular2010_2015 = moV2010_2015.nlargest(18,['popularity'])\n",
    "moviesPopularGenres2010_2015 = moV2010_2015.nlargest(18,['popularity']).genres"
   ]
  },
  {
   "cell_type": "markdown",
   "metadata": {},
   "source": [
    "18 Most Profitable Genres Over 6 Years (2010-2015)"
   ]
  },
  {
   "cell_type": "code",
   "execution_count": 55,
   "metadata": {},
   "outputs": [],
   "source": [
    "moviesProfitable2010_2015 = moV2010_2015.nlargest(18,['profit'])\n",
    "moviesProfitableGenres2010_2015 = moV2010_2015.nlargest(18,['profit']).genres"
   ]
  },
  {
   "cell_type": "markdown",
   "metadata": {},
   "source": [
    "What movies are both Popular and Profitable  Over 6 Years (2010-2015)"
   ]
  },
  {
   "cell_type": "code",
   "execution_count": 57,
   "metadata": {},
   "outputs": [
    {
     "data": {
      "text/plain": [
       "{'Furious 7', 'Jurassic World', 'Star Wars: The Force Awakens'}"
      ]
     },
     "execution_count": 57,
     "metadata": {},
     "output_type": "execute_result"
    }
   ],
   "source": [
    "set(moviesPopular2010_2015['original_title']) & set(moviesProfitable2010_2015['original_title'])"
   ]
  },
  {
   "cell_type": "markdown",
   "metadata": {},
   "source": [
    "Movie Genres that were Both Popular and Profitable"
   ]
  },
  {
   "cell_type": "code",
   "execution_count": 56,
   "metadata": {
    "scrolled": true
   },
   "outputs": [
    {
     "data": {
      "text/plain": [
       "{'Action', 'Adventure', 'Science Fiction'}"
      ]
     },
     "execution_count": 56,
     "metadata": {},
     "output_type": "execute_result"
    }
   ],
   "source": [
    "set(moviesPopularGenres2010_2015) & set(moviesProfitableGenres2010_2015)"
   ]
  },
  {
   "cell_type": "markdown",
   "metadata": {},
   "source": [
    "Just for fun, let's look at what year produced the largest amount of  most popular movies"
   ]
  },
  {
   "cell_type": "code",
   "execution_count": 66,
   "metadata": {},
   "outputs": [],
   "source": [
    "overall_popular = moV.nlargest(18,['popularity']).release_year"
   ]
  },
  {
   "cell_type": "code",
   "execution_count": 67,
   "metadata": {},
   "outputs": [
    {
     "data": {
      "text/plain": [
       "<matplotlib.axes._subplots.AxesSubplot at 0x7f51962facc0>"
      ]
     },
     "execution_count": 67,
     "metadata": {},
     "output_type": "execute_result"
    },
    {
     "data": {
      "image/png": "[encoded data removed]",
      "text/plain": [
       "<matplotlib.figure.Figure at 0x7f5196684668>"
      ]
     },
     "metadata": {
      "needs_background": "light"
     },
     "output_type": "display_data"
    }
   ],
   "source": [
    "overall_popular.hist()"
   ]
  },
  {
   "cell_type": "code",
   "execution_count": null,
   "metadata": {},
   "outputs": [],
   "source": [
    "MOST POPULAR GENRES OF ENTIRE DATA SET THAT WERE BOTH POPULAR AND PROFITABLE"
   ]
  },
  {
   "cell_type": "code",
   "execution_count": 60,
   "metadata": {},
   "outputs": [],
   "source": [
    "OverallPopularEntireFile = moV.nlargest(18,['popularity'])\n",
    "OverallPopularGenresEntireFile = moV.nlargest(18,['popularity']).genres"
   ]
  },
  {
   "cell_type": "code",
   "execution_count": 61,
   "metadata": {},
   "outputs": [],
   "source": [
    "OverallProfitableEntireFile = moV.nlargest(18,['profit'])\n",
    "OverallProfitableGenresEntireFile = moV.nlargest(18,['profit']).genres"
   ]
  },
  {
   "cell_type": "markdown",
   "metadata": {},
   "source": [
    "GENRES THAT WERE BOTH POPULAR AND PROFITABLE"
   ]
  },
  {
   "cell_type": "code",
   "execution_count": 62,
   "metadata": {},
   "outputs": [
    {
     "data": {
      "text/plain": [
       "{'Avatar', 'Furious 7', 'Jurassic World', 'Star Wars: The Force Awakens'}"
      ]
     },
     "execution_count": 62,
     "metadata": {},
     "output_type": "execute_result"
    }
   ],
   "source": [
    "set(OverallPopularEntireFile['original_title']) & set(OverallProfitableEntireFile['original_title'])"
   ]
  },
  {
   "cell_type": "markdown",
   "metadata": {},
   "source": [
    "MOVIES THAT WERE BOTH POPULAR AND PROFITABLE"
   ]
  },
  {
   "cell_type": "code",
   "execution_count": 63,
   "metadata": {},
   "outputs": [
    {
     "data": {
      "text/plain": [
       "{'Action', 'Adventure', 'Drama', 'Science Fiction'}"
      ]
     },
     "execution_count": 63,
     "metadata": {},
     "output_type": "execute_result"
    }
   ],
   "source": [
    "set(OverallPopularGenresEntireFile) & set(OverallProfitableGenresEntireFile)"
   ]
  },
  {
   "cell_type": "markdown",
   "metadata": {},
   "source": [
    "<a id='conclusions'></a>\n",
    "## Conclusions\n",
    "\n",
    "> **Tip**: Finally, summarize your findings and the results that have been performed in relation to the question(s) provided at the beginning of the analysis. Summarize the results accurately, and point out where additional research can be done or where additional information could be useful.\n",
    "\n",
    "### Limitation\n",
    "> **Tip**: Make sure that you are clear with regards to the limitations of your exploration. You should have at least 1 limitation explained clearly. \n",
    "\n",
    "> **Tip**: If you haven't done any statistical tests, do not imply any statistical conclusions. And make sure you avoid implying causation from correlation!\n",
    "\n",
    "> **Tip**: Once you are satisfied with your work here, check over your report to make sure that it is satisfies all the areas of the rubric (found on the project submission page at the end of the lesson). You should also probably remove all of the \"Tips\" like this one so that the presentation is as polished as possible.\n",
    "\n",
    "## Submitting your Project \n",
    "\n",
    "> **Tip**: Before you submit your project, you need to create a .html or .pdf version of this notebook in the workspace here. To do that, run the code cell below. If it worked correctly, you should get a return code of 0, and you should see the generated .html file in the workspace directory (click on the orange Jupyter icon in the upper left).\n",
    "\n",
    "> **Tip**: Alternatively, you can download this report as .html via the **File** > **Download as** submenu, and then manually upload it into the workspace directory by clicking on the orange Jupyter icon in the upper left, then using the Upload button.\n",
    "\n",
    "> **Tip**: Once you've done this, you can submit your project by clicking on the \"Submit Project\" button in the lower right here. This will create and submit a zip file with this .ipynb doc and the .html or .pdf version you created. Congratulations!"
   ]
  },
  {
   "cell_type": "code",
   "execution_count": null,
   "metadata": {},
   "outputs": [],
   "source": []
  },
  {
   "cell_type": "markdown",
   "metadata": {},
   "source": [
    "## OPTIONAL: Question for the reviewer\n",
    " \n",
    "If you have any question about the starter code or your own implementation, please add it in the cell below. \n",
    "\n",
    "For example, if you want to know why a piece of code is written the way it is, or its function, or alternative ways of implementing the same functionality, or if you want to get feedback on a specific part of your code or get feedback on things you tried but did not work.\n",
    "\n",
    "Please keep your questions succinct and clear to help the reviewer answer them satisfactorily. \n",
    "\n",
    "> **_Your question_**"
   ]
  },
  {
   "cell_type": "markdown",
   "metadata": {},
   "source": [
    "1) This was noted in the comments the first time a bar graph was made. I see there is an issue with the spacing for the x-labels. I cannot come up with a reason.\n",
    "2) I struggled to make a function that  splits the movie file into seperate dataframes. If you could help or point me to a reference...\n",
    "3) I used a 'pad = 35' on my pie charts when I worked on my computer but when I put it in Udacity's Jupyter, it gave an error. Is there a workaround?"
   ]
  }
 ],
 "metadata": {
  "kernelspec": {
   "display_name": "Python 3 (ipykernel)",
   "language": "python",
   "name": "python3"
  },
  "language_info": {
   "codemirror_mode": {
    "name": "ipython",
    "version": 3
   },
   "file_extension": ".py",
   "mimetype": "text/x-python",
   "name": "python",
   "nbconvert_exporter": "python",
   "pygments_lexer": "ipython3",
   "version": "3.11.3"
  }
 },
 "nbformat": 4,
 "nbformat_minor": 2
}
